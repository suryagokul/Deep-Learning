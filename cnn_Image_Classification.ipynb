{
  "nbformat": 4,
  "nbformat_minor": 0,
  "metadata": {
    "kernelspec": {
      "display_name": "Python 3",
      "language": "python",
      "name": "python3"
    },
    "language_info": {
      "codemirror_mode": {
        "name": "ipython",
        "version": 3
      },
      "file_extension": ".py",
      "mimetype": "text/x-python",
      "name": "python",
      "nbconvert_exporter": "python",
      "pygments_lexer": "ipython3",
      "version": "3.7.7"
    },
    "colab": {
      "name": "cnn Image Classification.ipynb",
      "provenance": [],
      "include_colab_link": true
    }
  },
  "cells": [
    {
      "cell_type": "markdown",
      "metadata": {
        "id": "view-in-github",
        "colab_type": "text"
      },
      "source": [
        "<a href=\"https://colab.research.google.com/github/suryagokul/Deep-Learning/blob/main/cnn_Image_Classification.ipynb\" target=\"_parent\"><img src=\"https://colab.research.google.com/assets/colab-badge.svg\" alt=\"Open In Colab\"/></a>"
      ]
    },
    {
      "cell_type": "markdown",
      "metadata": {
        "id": "gwqiL_96Aahe"
      },
      "source": [
        "#### Convolutional Neural Network"
      ]
    },
    {
      "cell_type": "markdown",
      "metadata": {
        "id": "5rYNDEB5GZus"
      },
      "source": [
        "`Here we are saying to use only 50% of gpu memory.After 50 percent of memory is used,then deallocate some of the memory and reallocate again.`"
      ]
    },
    {
      "cell_type": "code",
      "metadata": {
        "id": "6lkXdC2BAahp"
      },
      "source": [
        "from tensorflow.compat.v1 import ConfigProto\n",
        "from tensorflow.compat.v1 import InteractiveSession\n",
        "\n",
        "config = ConfigProto()\n",
        "config.gpu_options.per_process_gpu_memory_fraction = 0.5\n",
        "config.gpu_options.allow_growth = True\n",
        "session = InteractiveSession(config=config)"
      ],
      "execution_count": 1,
      "outputs": []
    },
    {
      "cell_type": "code",
      "metadata": {
        "id": "GeKum-P0Aahr"
      },
      "source": [
        "# Convolutional Neural Network\n",
        "\n",
        "# Importing the libraries\n",
        "import tensorflow as tf\n",
        "from tensorflow.keras.preprocessing.image import ImageDataGenerator"
      ],
      "execution_count": 2,
      "outputs": []
    },
    {
      "cell_type": "code",
      "metadata": {
        "colab": {
          "base_uri": "https://localhost:8080/",
          "height": 35
        },
        "id": "WfVBuGY3Aahs",
        "outputId": "70bdf3a3-953f-4f49-db17-f79795950480"
      },
      "source": [
        "tf.__version__"
      ],
      "execution_count": 3,
      "outputs": [
        {
          "output_type": "execute_result",
          "data": {
            "application/vnd.google.colaboratory.intrinsic+json": {
              "type": "string"
            },
            "text/plain": [
              "'2.4.0'"
            ]
          },
          "metadata": {
            "tags": []
          },
          "execution_count": 3
        }
      ]
    },
    {
      "cell_type": "code",
      "metadata": {
        "colab": {
          "base_uri": "https://localhost:8080/"
        },
        "id": "uXHkJmMPHWYv",
        "outputId": "a2919d8d-4fbf-49fc-de76-12106a0e9a7b"
      },
      "source": [
        "from google.colab import drive\r\n",
        "\r\n",
        "drive.mount('/content/drive')"
      ],
      "execution_count": 6,
      "outputs": [
        {
          "output_type": "stream",
          "text": [
            "Mounted at /content/drive\n"
          ],
          "name": "stdout"
        }
      ]
    },
    {
      "cell_type": "code",
      "metadata": {
        "id": "hMrb_J9sAahu"
      },
      "source": [
        "# Part 1 - Data Preprocessing\n",
        "\n",
        "# Preprocessing the Training set or Data Augmentation\n",
        "train_datagen = ImageDataGenerator(rescale = 1./255,\n",
        "                                   shear_range = 0.2,\n",
        "                                   zoom_range = 0.2,\n",
        "                                   horizontal_flip = True)\n"
      ],
      "execution_count": 5,
      "outputs": []
    },
    {
      "cell_type": "code",
      "metadata": {
        "colab": {
          "base_uri": "https://localhost:8080/"
        },
        "id": "4FuXtRh3Aahu",
        "outputId": "1c2d2f97-9f5e-4487-dba8-4183c95b7e00"
      },
      "source": [
        "training_set = train_datagen.flow_from_directory('/content/drive/MyDrive/Datasets/train',\n",
        "                                                 target_size = (64, 64),\n",
        "                                                 batch_size = 32,\n",
        "                                                 class_mode = 'binary')\n",
        "\n",
        "# Preprocessing the Test set\n",
        "test_datagen = ImageDataGenerator(rescale = 1./255)\n",
        "test_set = test_datagen.flow_from_directory('/content/drive/MyDrive/Datasets/test',\n",
        "                                            target_size = (64, 64),\n",
        "                                            batch_size = 32,\n",
        "                                            class_mode = 'binary')"
      ],
      "execution_count": 7,
      "outputs": [
        {
          "output_type": "stream",
          "text": [
            "Found 456 images belonging to 2 classes.\n",
            "Found 40 images belonging to 2 classes.\n"
          ],
          "name": "stdout"
        }
      ]
    },
    {
      "cell_type": "code",
      "metadata": {
        "id": "Etg-0eo7Aahv"
      },
      "source": [
        "from tensorflow.keras.layers import Conv2D"
      ],
      "execution_count": 8,
      "outputs": []
    },
    {
      "cell_type": "code",
      "metadata": {
        "id": "ggmPMuklAahw"
      },
      "source": [
        "# Part 2 - Building the CNN\n",
        "\n",
        "# Initialising the CNN\n",
        "cnn = tf.keras.models.Sequential()\n",
        "\n",
        "# Step 1 - Convolution\n",
        "cnn.add(tf.keras.layers.Conv2D(filters=32,padding=\"same\",kernel_size=3, activation='relu', input_shape=[64, 64, 3]))\n",
        "\n",
        "# Step 2 - Pooling\n",
        "cnn.add(tf.keras.layers.MaxPool2D(pool_size=2, strides=2))\n",
        "\n",
        "# Adding a second convolutional layer\n",
        "cnn.add(tf.keras.layers.Conv2D(filters=32,padding='same',kernel_size=3, activation='relu'))\n",
        "cnn.add(tf.keras.layers.MaxPool2D(pool_size=2, strides=2))\n",
        "\n",
        "# Step 3 - Flattening\n",
        "cnn.add(tf.keras.layers.Flatten())\n",
        "\n",
        "# Step 4 - Full Connection\n",
        "cnn.add(tf.keras.layers.Dense(units=128, activation='relu'))\n",
        "\n",
        "# Step 5 - Output Layer\n",
        "cnn.add(tf.keras.layers.Dense(units=1, activation='sigmoid'))"
      ],
      "execution_count": 10,
      "outputs": []
    },
    {
      "cell_type": "code",
      "metadata": {
        "colab": {
          "base_uri": "https://localhost:8080/"
        },
        "id": "FHvtdwjRAahx",
        "outputId": "1e064fb6-f08a-4d87-bcfa-12d8a6b377e4"
      },
      "source": [
        "cnn.summary()"
      ],
      "execution_count": 11,
      "outputs": [
        {
          "output_type": "stream",
          "text": [
            "Model: \"sequential\"\n",
            "_________________________________________________________________\n",
            "Layer (type)                 Output Shape              Param #   \n",
            "=================================================================\n",
            "conv2d (Conv2D)              (None, 64, 64, 32)        896       \n",
            "_________________________________________________________________\n",
            "max_pooling2d (MaxPooling2D) (None, 32, 32, 32)        0         \n",
            "_________________________________________________________________\n",
            "conv2d_1 (Conv2D)            (None, 32, 32, 32)        9248      \n",
            "_________________________________________________________________\n",
            "max_pooling2d_1 (MaxPooling2 (None, 16, 16, 32)        0         \n",
            "_________________________________________________________________\n",
            "flatten (Flatten)            (None, 8192)              0         \n",
            "_________________________________________________________________\n",
            "dense (Dense)                (None, 128)               1048704   \n",
            "_________________________________________________________________\n",
            "dense_1 (Dense)              (None, 1)                 129       \n",
            "=================================================================\n",
            "Total params: 1,058,977\n",
            "Trainable params: 1,058,977\n",
            "Non-trainable params: 0\n",
            "_________________________________________________________________\n"
          ],
          "name": "stdout"
        }
      ]
    },
    {
      "cell_type": "code",
      "metadata": {
        "scrolled": true,
        "colab": {
          "base_uri": "https://localhost:8080/"
        },
        "id": "iSSUQ7LjAahx",
        "outputId": "627054e4-11c0-4e02-aba2-8284418b7916"
      },
      "source": [
        "# Part 3 - Training the CNN\n",
        "\n",
        "# Compiling the CNN\n",
        "cnn.compile(optimizer = 'adam', loss = 'binary_crossentropy', metrics = ['accuracy'])\n",
        "\n",
        "# Training the CNN on the Training set and evaluating it on the Test set\n",
        "cnn.fit(x = training_set, validation_data = test_set, epochs = 10)"
      ],
      "execution_count": 12,
      "outputs": [
        {
          "output_type": "stream",
          "text": [
            "Epoch 1/10\n",
            "15/15 [==============================] - 255s 17s/step - loss: 0.8784 - accuracy: 0.5442 - val_loss: 0.6903 - val_accuracy: 0.5250\n",
            "Epoch 2/10\n",
            "15/15 [==============================] - 4s 290ms/step - loss: 0.6664 - accuracy: 0.6216 - val_loss: 0.6843 - val_accuracy: 0.5250\n",
            "Epoch 3/10\n",
            "15/15 [==============================] - 4s 289ms/step - loss: 0.6640 - accuracy: 0.6181 - val_loss: 0.6912 - val_accuracy: 0.5250\n",
            "Epoch 4/10\n",
            "15/15 [==============================] - 4s 311ms/step - loss: 0.6382 - accuracy: 0.6520 - val_loss: 0.6642 - val_accuracy: 0.6500\n",
            "Epoch 5/10\n",
            "15/15 [==============================] - 5s 294ms/step - loss: 0.6571 - accuracy: 0.6512 - val_loss: 0.6379 - val_accuracy: 0.6000\n",
            "Epoch 6/10\n",
            "15/15 [==============================] - 4s 288ms/step - loss: 0.6277 - accuracy: 0.6714 - val_loss: 0.6022 - val_accuracy: 0.7000\n",
            "Epoch 7/10\n",
            "15/15 [==============================] - 4s 288ms/step - loss: 0.6242 - accuracy: 0.6740 - val_loss: 0.5954 - val_accuracy: 0.7250\n",
            "Epoch 8/10\n",
            "15/15 [==============================] - 4s 290ms/step - loss: 0.6113 - accuracy: 0.6678 - val_loss: 0.6266 - val_accuracy: 0.6500\n",
            "Epoch 9/10\n",
            "15/15 [==============================] - 5s 291ms/step - loss: 0.5905 - accuracy: 0.7116 - val_loss: 0.5510 - val_accuracy: 0.7250\n",
            "Epoch 10/10\n",
            "15/15 [==============================] - 5s 293ms/step - loss: 0.5245 - accuracy: 0.7599 - val_loss: 0.5568 - val_accuracy: 0.6750\n"
          ],
          "name": "stdout"
        },
        {
          "output_type": "execute_result",
          "data": {
            "text/plain": [
              "<tensorflow.python.keras.callbacks.History at 0x7f2eee452fd0>"
            ]
          },
          "metadata": {
            "tags": []
          },
          "execution_count": 12
        }
      ]
    },
    {
      "cell_type": "code",
      "metadata": {
        "id": "PJxm6dHGAahy"
      },
      "source": [
        "# save it as a h5 file\n",
        "\n",
        "cnn.save('model_rcat_dog.h5')"
      ],
      "execution_count": 13,
      "outputs": []
    },
    {
      "cell_type": "code",
      "metadata": {
        "id": "RO4DWh-FAahy"
      },
      "source": [
        "from tensorflow.keras.models import load_model\n",
        " \n",
        "# load model\n",
        "model = load_model('model_rcat_dog.h5')"
      ],
      "execution_count": 14,
      "outputs": []
    },
    {
      "cell_type": "code",
      "metadata": {
        "colab": {
          "base_uri": "https://localhost:8080/"
        },
        "id": "Gerr03WkAahy",
        "outputId": "b3ad6095-8ffe-4e0b-deb0-fa54f6dc1a91"
      },
      "source": [
        "model.summary()"
      ],
      "execution_count": 15,
      "outputs": [
        {
          "output_type": "stream",
          "text": [
            "Model: \"sequential\"\n",
            "_________________________________________________________________\n",
            "Layer (type)                 Output Shape              Param #   \n",
            "=================================================================\n",
            "conv2d (Conv2D)              (None, 64, 64, 32)        896       \n",
            "_________________________________________________________________\n",
            "max_pooling2d (MaxPooling2D) (None, 32, 32, 32)        0         \n",
            "_________________________________________________________________\n",
            "conv2d_1 (Conv2D)            (None, 32, 32, 32)        9248      \n",
            "_________________________________________________________________\n",
            "max_pooling2d_1 (MaxPooling2 (None, 16, 16, 32)        0         \n",
            "_________________________________________________________________\n",
            "flatten (Flatten)            (None, 8192)              0         \n",
            "_________________________________________________________________\n",
            "dense (Dense)                (None, 128)               1048704   \n",
            "_________________________________________________________________\n",
            "dense_1 (Dense)              (None, 1)                 129       \n",
            "=================================================================\n",
            "Total params: 1,058,977\n",
            "Trainable params: 1,058,977\n",
            "Non-trainable params: 0\n",
            "_________________________________________________________________\n"
          ],
          "name": "stdout"
        }
      ]
    },
    {
      "cell_type": "code",
      "metadata": {
        "id": "l9EYFhZ6Aah0"
      },
      "source": [
        "# Part 4 - Making a single prediction\n",
        "\n",
        "import numpy as np\n",
        "from tensorflow.keras.preprocessing import image\n",
        "test_image = image.load_img('/content/drive/MyDrive/Datasets/test/cats/images (25).jpg', target_size = (64,64))\n",
        "test_image = image.img_to_array(test_image)\n",
        "test_image=test_image/255\n",
        "test_image = np.expand_dims(test_image, axis = 0)\n",
        "result = cnn.predict(test_image)"
      ],
      "execution_count": 16,
      "outputs": []
    },
    {
      "cell_type": "code",
      "metadata": {
        "colab": {
          "base_uri": "https://localhost:8080/"
        },
        "id": "0L2pRrIeAah0",
        "outputId": "a87cf81d-f182-4aeb-e4a6-01ecd9129644"
      },
      "source": [
        "test_image.shape"
      ],
      "execution_count": 20,
      "outputs": [
        {
          "output_type": "execute_result",
          "data": {
            "text/plain": [
              "(1, 64, 64, 3)"
            ]
          },
          "metadata": {
            "tags": []
          },
          "execution_count": 20
        }
      ]
    },
    {
      "cell_type": "code",
      "metadata": {
        "colab": {
          "base_uri": "https://localhost:8080/"
        },
        "id": "qP5Jt1ZSAah1",
        "outputId": "49a743d4-8e95-4b0e-9ae2-988259eff3e7"
      },
      "source": [
        "result"
      ],
      "execution_count": 21,
      "outputs": [
        {
          "output_type": "execute_result",
          "data": {
            "text/plain": [
              "array([[0.26227996]], dtype=float32)"
            ]
          },
          "metadata": {
            "tags": []
          },
          "execution_count": 21
        }
      ]
    },
    {
      "cell_type": "code",
      "metadata": {
        "colab": {
          "base_uri": "https://localhost:8080/"
        },
        "id": "Z-PQP2iPAah1",
        "outputId": "6b06d25d-bb75-4bd8-aa85-19d2a9bfe264"
      },
      "source": [
        "if result[0]<=0.5:\n",
        "    print(\"The image classified is cat\")\n",
        "else:\n",
        "    print(\"The image classified is dog\")"
      ],
      "execution_count": 22,
      "outputs": [
        {
          "output_type": "stream",
          "text": [
            "The image classified is cat\n"
          ],
          "name": "stdout"
        }
      ]
    }
  ]
}