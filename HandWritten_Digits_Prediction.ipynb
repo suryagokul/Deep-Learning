{
  "nbformat": 4,
  "nbformat_minor": 0,
  "metadata": {
    "colab": {
      "name": "HandWritten Digits Prediction.ipynb",
      "provenance": [],
      "collapsed_sections": [
        "G08EQazn_jp_",
        "oARwZNgrdlzH"
      ],
      "authorship_tag": "ABX9TyMXoquu6R6v83mF55ackjIV",
      "include_colab_link": true
    },
    "kernelspec": {
      "name": "python3",
      "display_name": "Python 3"
    }
  },
  "cells": [
    {
      "cell_type": "markdown",
      "metadata": {
        "id": "view-in-github",
        "colab_type": "text"
      },
      "source": [
        "<a href=\"https://colab.research.google.com/github/suryagokul/Deep-Learning/blob/main/HandWritten_Digits_Prediction.ipynb\" target=\"_parent\"><img src=\"https://colab.research.google.com/assets/colab-badge.svg\" alt=\"Open In Colab\"/></a>"
      ]
    },
    {
      "cell_type": "markdown",
      "metadata": {
        "id": "G08EQazn_jp_"
      },
      "source": [
        "# MNIST Handwritten digits Classification"
      ]
    },
    {
      "cell_type": "code",
      "metadata": {
        "id": "q6GmrRMb4hMc"
      },
      "source": [
        "import tensorflow as tf"
      ],
      "execution_count": 62,
      "outputs": []
    },
    {
      "cell_type": "code",
      "metadata": {
        "id": "fNlbqaSm5UT8"
      },
      "source": [
        "(X_train,y_train),(X_test,y_test) = tf.keras.datasets.mnist.load_data()"
      ],
      "execution_count": 278,
      "outputs": []
    },
    {
      "cell_type": "code",
      "metadata": {
        "colab": {
          "base_uri": "https://localhost:8080/"
        },
        "id": "iCcfyW7A5hOR",
        "outputId": "9878a795-fd48-428d-f31c-4022afa1f4b9"
      },
      "source": [
        "X_train.shape,X_test.shape                        # Having 60,000 images of 28 * 28 matrix."
      ],
      "execution_count": 279,
      "outputs": [
        {
          "output_type": "execute_result",
          "data": {
            "text/plain": [
              "((60000, 28, 28), (10000, 28, 28))"
            ]
          },
          "metadata": {
            "tags": []
          },
          "execution_count": 279
        }
      ]
    },
    {
      "cell_type": "code",
      "metadata": {
        "colab": {
          "base_uri": "https://localhost:8080/"
        },
        "id": "m1Q5cDJE92eQ",
        "outputId": "4bab5c35-b634-4d50-aedc-00cbc495adbf"
      },
      "source": [
        "X_train[100].shape"
      ],
      "execution_count": 280,
      "outputs": [
        {
          "output_type": "execute_result",
          "data": {
            "text/plain": [
              "(28, 28)"
            ]
          },
          "metadata": {
            "tags": []
          },
          "execution_count": 280
        }
      ]
    },
    {
      "cell_type": "code",
      "metadata": {
        "id": "dL0GvV9G-EZW"
      },
      "source": [
        "X_train , X_test = X_train/255, X_test/255                # Normalizing data between 0 to 1"
      ],
      "execution_count": 281,
      "outputs": []
    },
    {
      "cell_type": "code",
      "metadata": {
        "id": "AwebnA3S-RGk"
      },
      "source": [
        "import matplotlib.pyplot as plt\n"
      ],
      "execution_count": 282,
      "outputs": []
    },
    {
      "cell_type": "code",
      "metadata": {
        "colab": {
          "base_uri": "https://localhost:8080/",
          "height": 248
        },
        "id": "NKK-a8sR-YOR",
        "outputId": "8bdbdca2-f021-434a-c233-fee92e5f3871"
      },
      "source": [
        "plt.imshow(X_train[50],cmap='binary')\n",
        "plt.axis('off')\n",
        "plt.show()"
      ],
      "execution_count": 283,
      "outputs": [
        {
          "output_type": "display_data",
          "data": {
            "image/png": "[encoded data removed]",
            "text/plain": [
              "<Figure size 432x288 with 1 Axes>"
            ]
          },
          "metadata": {
            "tags": [],
            "needs_background": "light"
          }
        }
      ]
    },
    {
      "cell_type": "code",
      "metadata": {
        "id": "A10oXZhW-_Oe"
      },
      "source": [
        "import seaborn as sns"
      ],
      "execution_count": 284,
      "outputs": []
    },
    {
      "cell_type": "code",
      "metadata": {
        "colab": {
          "base_uri": "https://localhost:8080/",
          "height": 884
        },
        "id": "FWnXhF94_DbG",
        "outputId": "303ce578-9d65-46a7-8a3f-9438fbde2565"
      },
      "source": [
        "plt.figure(figsize=(14,15))\n",
        "sns.heatmap(X_train[50],annot=True,cmap='binary')"
      ],
      "execution_count": 285,
      "outputs": [
        {
          "output_type": "execute_result",
          "data": {
            "text/plain": [
              "<matplotlib.axes._subplots.AxesSubplot at 0x7f314b329898>"
            ]
          },
          "metadata": {
            "tags": []
          },
          "execution_count": 285
        },
        {
          "output_type": "display_data",
          "data": {
            "image/png": "[encoded data removed]",
            "text/plain": [
              "<Figure size 1008x1080 with 2 Axes>"
            ]
          },
          "metadata": {
            "tags": [],
            "needs_background": "light"
          }
        }
      ]
    },
    {
      "cell_type": "code",
      "metadata": {
        "id": "KQPzqynA7N4z"
      },
      "source": [
        "model = tf.keras.models.Sequential()\n",
        "\n",
        "model.add(tf.keras.layers.Flatten(input_shape=[28, 28],name=\"inputLayer\"))\n",
        "\n",
        "model.add(tf.keras.layers.Dense(300, activation=\"relu\",name=\"hiddenLayer1\"))\n",
        "\n",
        "model.add(tf.keras.layers.Dense(100, activation=\"relu\",name=\"hiddenLayer2\"))\n",
        "\n",
        "model.add(tf.keras.layers.Dense(10, activation=\"softmax\",name=\"outputLayer\"))"
      ],
      "execution_count": 286,
      "outputs": []
    },
    {
      "cell_type": "code",
      "metadata": {
        "colab": {
          "base_uri": "https://localhost:8080/"
        },
        "id": "QdyQDv5f82i3",
        "outputId": "b24f0787-55de-4c3f-b2a4-6b59e45bbcb7"
      },
      "source": [
        "model.layers"
      ],
      "execution_count": 287,
      "outputs": [
        {
          "output_type": "execute_result",
          "data": {
            "text/plain": [
              "[<tensorflow.python.keras.layers.core.Flatten at 0x7f3148882748>,\n",
              " <tensorflow.python.keras.layers.core.Dense at 0x7f3146d579b0>,\n",
              " <tensorflow.python.keras.layers.core.Dense at 0x7f3146d576d8>,\n",
              " <tensorflow.python.keras.layers.core.Dense at 0x7f314a27de80>]"
            ]
          },
          "metadata": {
            "tags": []
          },
          "execution_count": 287
        }
      ]
    },
    {
      "cell_type": "code",
      "metadata": {
        "colab": {
          "base_uri": "https://localhost:8080/"
        },
        "id": "dVz4brBx_yW8",
        "outputId": "ca449508-9f65-43ad-c75c-7da37838a263"
      },
      "source": [
        "model.summary()"
      ],
      "execution_count": 288,
      "outputs": [
        {
          "output_type": "stream",
          "text": [
            "Model: \"sequential_4\"\n",
            "_________________________________________________________________\n",
            "Layer (type)                 Output Shape              Param #   \n",
            "=================================================================\n",
            "inputLayer (Flatten)         (None, 784)               0         \n",
            "_________________________________________________________________\n",
            "hiddenLayer1 (Dense)         (None, 300)               235500    \n",
            "_________________________________________________________________\n",
            "hiddenLayer2 (Dense)         (None, 100)               30100     \n",
            "_________________________________________________________________\n",
            "outputLayer (Dense)          (None, 10)                1010      \n",
            "=================================================================\n",
            "Total params: 266,610\n",
            "Trainable params: 266,610\n",
            "Non-trainable params: 0\n",
            "_________________________________________________________________\n"
          ],
          "name": "stdout"
        }
      ]
    },
    {
      "cell_type": "code",
      "metadata": {
        "id": "sfI-jEbSeuas"
      },
      "source": [
        "#firsLayer * secondLayer + bias\n",
        "# 784*300 + 300, 300*100+100, 100*10+10 =  (235500, 30100, 1010)"
      ],
      "execution_count": null,
      "outputs": []
    },
    {
      "cell_type": "code",
      "metadata": {
        "id": "TZ9Mtf_L_zsI"
      },
      "source": [
        "hidden1 = model.layers[1]\n"
      ],
      "execution_count": 289,
      "outputs": []
    },
    {
      "cell_type": "code",
      "metadata": {
        "colab": {
          "base_uri": "https://localhost:8080/",
          "height": 35
        },
        "id": "r_FP6Gy1_4O-",
        "outputId": "f19298d0-ab7b-4329-973b-b0105b59bf90"
      },
      "source": [
        "hidden1.name"
      ],
      "execution_count": 290,
      "outputs": [
        {
          "output_type": "execute_result",
          "data": {
            "application/vnd.google.colaboratory.intrinsic+json": {
              "type": "string"
            },
            "text/plain": [
              "'hiddenLayer1'"
            ]
          },
          "metadata": {
            "tags": []
          },
          "execution_count": 290
        }
      ]
    },
    {
      "cell_type": "code",
      "metadata": {
        "id": "2MIdXsQS_5Lm"
      },
      "source": [
        "weights,bias = hidden1.get_weights()"
      ],
      "execution_count": 291,
      "outputs": []
    },
    {
      "cell_type": "code",
      "metadata": {
        "colab": {
          "base_uri": "https://localhost:8080/"
        },
        "id": "jBQjr0WoAVDA",
        "outputId": "a8aed1df-13ec-471b-ddca-8b66d50eb0fe"
      },
      "source": [
        "print(weights)\n",
        "\n",
        "bias                    # Weights initialized with random and bias initialized with 0's.."
      ],
      "execution_count": 292,
      "outputs": [
        {
          "output_type": "stream",
          "text": [
            "[[-0.05559811  0.0247461   0.06148523 ... -0.03344956  0.00768515\n",
            "   0.00869542]\n",
            " [-0.03834974 -0.01215802  0.06584218 ...  0.01848396  0.0165828\n",
            "  -0.06357548]\n",
            " [ 0.05637269  0.03221941 -0.01913061 ...  0.03889931  0.00176412\n",
            "   0.02387432]\n",
            " ...\n",
            " [ 0.00127989 -0.06461009 -0.00083808 ... -0.02702921 -0.05945008\n",
            "  -0.02408896]\n",
            " [-0.06700008 -0.05501223  0.0022498  ...  0.06680505 -0.05822433\n",
            "  -0.03038092]\n",
            " [-0.04191826  0.02315432  0.06810084 ... -0.00927728  0.07353096\n",
            "  -0.00812124]]\n"
          ],
          "name": "stdout"
        },
        {
          "output_type": "execute_result",
          "data": {
            "text/plain": [
              "array([0., 0., 0., 0., 0., 0., 0., 0., 0., 0., 0., 0., 0., 0., 0., 0., 0.,\n",
              "       0., 0., 0., 0., 0., 0., 0., 0., 0., 0., 0., 0., 0., 0., 0., 0., 0.,\n",
              "       0., 0., 0., 0., 0., 0., 0., 0., 0., 0., 0., 0., 0., 0., 0., 0., 0.,\n",
              "       0., 0., 0., 0., 0., 0., 0., 0., 0., 0., 0., 0., 0., 0., 0., 0., 0.,\n",
              "       0., 0., 0., 0., 0., 0., 0., 0., 0., 0., 0., 0., 0., 0., 0., 0., 0.,\n",
              "       0., 0., 0., 0., 0., 0., 0., 0., 0., 0., 0., 0., 0., 0., 0., 0., 0.,\n",
              "       0., 0., 0., 0., 0., 0., 0., 0., 0., 0., 0., 0., 0., 0., 0., 0., 0.,\n",
              "       0., 0., 0., 0., 0., 0., 0., 0., 0., 0., 0., 0., 0., 0., 0., 0., 0.,\n",
              "       0., 0., 0., 0., 0., 0., 0., 0., 0., 0., 0., 0., 0., 0., 0., 0., 0.,\n",
              "       0., 0., 0., 0., 0., 0., 0., 0., 0., 0., 0., 0., 0., 0., 0., 0., 0.,\n",
              "       0., 0., 0., 0., 0., 0., 0., 0., 0., 0., 0., 0., 0., 0., 0., 0., 0.,\n",
              "       0., 0., 0., 0., 0., 0., 0., 0., 0., 0., 0., 0., 0., 0., 0., 0., 0.,\n",
              "       0., 0., 0., 0., 0., 0., 0., 0., 0., 0., 0., 0., 0., 0., 0., 0., 0.,\n",
              "       0., 0., 0., 0., 0., 0., 0., 0., 0., 0., 0., 0., 0., 0., 0., 0., 0.,\n",
              "       0., 0., 0., 0., 0., 0., 0., 0., 0., 0., 0., 0., 0., 0., 0., 0., 0.,\n",
              "       0., 0., 0., 0., 0., 0., 0., 0., 0., 0., 0., 0., 0., 0., 0., 0., 0.,\n",
              "       0., 0., 0., 0., 0., 0., 0., 0., 0., 0., 0., 0., 0., 0., 0., 0., 0.,\n",
              "       0., 0., 0., 0., 0., 0., 0., 0., 0., 0., 0.], dtype=float32)"
            ]
          },
          "metadata": {
            "tags": []
          },
          "execution_count": 292
        }
      ]
    },
    {
      "cell_type": "code",
      "metadata": {
        "colab": {
          "base_uri": "https://localhost:8080/"
        },
        "id": "F_vHtsooAdjX",
        "outputId": "469d6273-0d6b-455f-bd32-62145673f05f"
      },
      "source": [
        "weights.shape,bias.shape"
      ],
      "execution_count": 293,
      "outputs": [
        {
          "output_type": "execute_result",
          "data": {
            "text/plain": [
              "((784, 300), (300,))"
            ]
          },
          "metadata": {
            "tags": []
          },
          "execution_count": 293
        }
      ]
    },
    {
      "cell_type": "code",
      "metadata": {
        "id": "1mVvJyeK2UL7"
      },
      "source": [
        "LOSS_FUNCTION = \"sparse_categorical_crossentropy\" # use => tf.losses.sparse_categorical_crossentropy\n",
        "# OPTIMIZER = \"SGD\" # or use with custom learning rate=> tf.keras.optimizers.SGD(0.02)\n",
        "METRICS = [\"accuracy\"]\n",
        "\n",
        "\n",
        "\n",
        "model.compile(loss=LOSS_FUNCTION,\n",
        "              optimizer=tf.keras.optimizers.Adam(0.001),\n",
        "              metrics=METRICS)"
      ],
      "execution_count": 294,
      "outputs": []
    },
    {
      "cell_type": "code",
      "metadata": {
        "id": "Pl_MN4MZ31CB"
      },
      "source": [
        "savedmodel = model.save('Model.h5')          "
      ],
      "execution_count": 295,
      "outputs": []
    },
    {
      "cell_type": "code",
      "metadata": {
        "colab": {
          "base_uri": "https://localhost:8080/"
        },
        "id": "kYKVPDac2YEt",
        "outputId": "af6e3022-936e-47b5-a9a7-2d6748e9b9ad"
      },
      "source": [
        "EPOCHS = 5\n",
        "VALIDATION_SET = (X_test, y_test)\n",
        "\n",
        "fit_model = model.fit(X_train, y_train, epochs=EPOCHS,\n",
        "                    validation_data=VALIDATION_SET)\n"
      ],
      "execution_count": 296,
      "outputs": [
        {
          "output_type": "stream",
          "text": [
            "Epoch 1/5\n",
            "1875/1875 [==============================] - 7s 4ms/step - loss: 0.2025 - accuracy: 0.9397 - val_loss: 0.1035 - val_accuracy: 0.9675\n",
            "Epoch 2/5\n",
            "1875/1875 [==============================] - 7s 3ms/step - loss: 0.0820 - accuracy: 0.9741 - val_loss: 0.0769 - val_accuracy: 0.9753\n",
            "Epoch 3/5\n",
            "1875/1875 [==============================] - 7s 4ms/step - loss: 0.0592 - accuracy: 0.9816 - val_loss: 0.0758 - val_accuracy: 0.9780\n",
            "Epoch 4/5\n",
            "1875/1875 [==============================] - 7s 4ms/step - loss: 0.0419 - accuracy: 0.9868 - val_loss: 0.0965 - val_accuracy: 0.9715\n",
            "Epoch 5/5\n",
            "1875/1875 [==============================] - 7s 4ms/step - loss: 0.0336 - accuracy: 0.9893 - val_loss: 0.0861 - val_accuracy: 0.9793\n"
          ],
          "name": "stdout"
        }
      ]
    },
    {
      "cell_type": "code",
      "metadata": {
        "colab": {
          "base_uri": "https://localhost:8080/"
        },
        "id": "F_0vRlMP2iZ8",
        "outputId": "c83cc10f-5dac-4528-8dbb-70a56db9b34f"
      },
      "source": [
        "model.evaluate(X_test,y_test)"
      ],
      "execution_count": 298,
      "outputs": [
        {
          "output_type": "stream",
          "text": [
            "313/313 [==============================] - 0s 1ms/step - loss: 0.0861 - accuracy: 0.9793\n"
          ],
          "name": "stdout"
        },
        {
          "output_type": "execute_result",
          "data": {
            "text/plain": [
              "[0.08611349016427994, 0.9793000221252441]"
            ]
          },
          "metadata": {
            "tags": []
          },
          "execution_count": 298
        }
      ]
    },
    {
      "cell_type": "code",
      "metadata": {
        "colab": {
          "base_uri": "https://localhost:8080/"
        },
        "id": "LPCNI-wZ3oIU",
        "outputId": "42861cf3-debc-45c8-d678-a4d4ead4c1b3"
      },
      "source": [
        "fit_model.params"
      ],
      "execution_count": 299,
      "outputs": [
        {
          "output_type": "execute_result",
          "data": {
            "text/plain": [
              "{'epochs': 5, 'steps': 1875, 'verbose': 1}"
            ]
          },
          "metadata": {
            "tags": []
          },
          "execution_count": 299
        }
      ]
    },
    {
      "cell_type": "code",
      "metadata": {
        "colab": {
          "base_uri": "https://localhost:8080/",
          "height": 204
        },
        "id": "_UFw3uwYLDEs",
        "outputId": "c64404b3-3ca9-4c63-a47f-686e37a94e15"
      },
      "source": [
        "import pandas as pd\n",
        "\n",
        "history = pd.DataFrame(fit_model.history)\n",
        "\n",
        "history"
      ],
      "execution_count": 300,
      "outputs": [
        {
          "output_type": "execute_result",
          "data": {
            "text/html": [
              "<div>\n",
              "<style scoped>\n",
              "    .dataframe tbody tr th:only-of-type {\n",
              "        vertical-align: middle;\n",
              "    }\n",
              "\n",
              "    .dataframe tbody tr th {\n",
              "        vertical-align: top;\n",
              "    }\n",
              "\n",
              "    .dataframe thead th {\n",
              "        text-align: right;\n",
              "    }\n",
              "</style>\n",
              "<table border=\"1\" class=\"dataframe\">\n",
              "  <thead>\n",
              "    <tr style=\"text-align: right;\">\n",
              "      <th></th>\n",
              "      <th>loss</th>\n",
              "      <th>accuracy</th>\n",
              "      <th>val_loss</th>\n",
              "      <th>val_accuracy</th>\n",
              "    </tr>\n",
              "  </thead>\n",
              "  <tbody>\n",
              "    <tr>\n",
              "      <th>0</th>\n",
              "      <td>0.202520</td>\n",
              "      <td>0.939733</td>\n",
              "      <td>0.103522</td>\n",
              "      <td>0.9675</td>\n",
              "    </tr>\n",
              "    <tr>\n",
              "      <th>1</th>\n",
              "      <td>0.081961</td>\n",
              "      <td>0.974083</td>\n",
              "      <td>0.076886</td>\n",
              "      <td>0.9753</td>\n",
              "    </tr>\n",
              "    <tr>\n",
              "      <th>2</th>\n",
              "      <td>0.059156</td>\n",
              "      <td>0.981650</td>\n",
              "      <td>0.075831</td>\n",
              "      <td>0.9780</td>\n",
              "    </tr>\n",
              "    <tr>\n",
              "      <th>3</th>\n",
              "      <td>0.041928</td>\n",
              "      <td>0.986750</td>\n",
              "      <td>0.096540</td>\n",
              "      <td>0.9715</td>\n",
              "    </tr>\n",
              "    <tr>\n",
              "      <th>4</th>\n",
              "      <td>0.033563</td>\n",
              "      <td>0.989267</td>\n",
              "      <td>0.086113</td>\n",
              "      <td>0.9793</td>\n",
              "    </tr>\n",
              "  </tbody>\n",
              "</table>\n",
              "</div>"
            ],
            "text/plain": [
              "       loss  accuracy  val_loss  val_accuracy\n",
              "0  0.202520  0.939733  0.103522        0.9675\n",
              "1  0.081961  0.974083  0.076886        0.9753\n",
              "2  0.059156  0.981650  0.075831        0.9780\n",
              "3  0.041928  0.986750  0.096540        0.9715\n",
              "4  0.033563  0.989267  0.086113        0.9793"
            ]
          },
          "metadata": {
            "tags": []
          },
          "execution_count": 300
        }
      ]
    },
    {
      "cell_type": "code",
      "metadata": {
        "colab": {
          "base_uri": "https://localhost:8080/",
          "height": 324
        },
        "id": "oIzkAZoYLahz",
        "outputId": "51425983-81c4-4f71-e9a8-09a5cce4177c"
      },
      "source": [
        "pd.DataFrame(fit_model.history).plot(figsize=(8, 5))\n",
        "plt.grid(True)\n",
        "plt.gca().set_ylim(0, 1)\n",
        "plt.show()"
      ],
      "execution_count": 301,
      "outputs": [
        {
          "output_type": "display_data",
          "data": {
            "image/png": "[encoded data removed]",
            "text/plain": [
              "<Figure size 576x360 with 1 Axes>"
            ]
          },
          "metadata": {
            "tags": [],
            "needs_background": "light"
          }
        }
      ]
    },
    {
      "cell_type": "code",
      "metadata": {
        "id": "vNFySx6NLrJ1"
      },
      "source": [
        "ypred = model.predict(X_test[3:6])"
      ],
      "execution_count": 302,
      "outputs": []
    },
    {
      "cell_type": "code",
      "metadata": {
        "colab": {
          "base_uri": "https://localhost:8080/"
        },
        "id": "ui0GTTsgOwvk",
        "outputId": "02258d86-93bc-4339-c704-8ac26d0cd403"
      },
      "source": [
        "ypred = ypred.round(2)\n",
        "\n",
        "ypred"
      ],
      "execution_count": 303,
      "outputs": [
        {
          "output_type": "execute_result",
          "data": {
            "text/plain": [
              "array([[1. , 0. , 0. , 0. , 0. , 0. , 0. , 0. , 0. , 0. ],\n",
              "       [0. , 0. , 0. , 0. , 0.9, 0. , 0. , 0. , 0. , 0.1],\n",
              "       [0. , 1. , 0. , 0. , 0. , 0. , 0. , 0. , 0. , 0. ]], dtype=float32)"
            ]
          },
          "metadata": {
            "tags": []
          },
          "execution_count": 303
        }
      ]
    },
    {
      "cell_type": "code",
      "metadata": {
        "colab": {
          "base_uri": "https://localhost:8080/"
        },
        "id": "LLn4UDPuOx7o",
        "outputId": "6a44b79f-9657-49e2-bd0d-c7ed5ad54fda"
      },
      "source": [
        "ypred = np.argmax(ypred,axis=-1)\n",
        "\n",
        "ypred"
      ],
      "execution_count": 304,
      "outputs": [
        {
          "output_type": "execute_result",
          "data": {
            "text/plain": [
              "array([0, 4, 1])"
            ]
          },
          "metadata": {
            "tags": []
          },
          "execution_count": 304
        }
      ]
    },
    {
      "cell_type": "code",
      "metadata": {
        "colab": {
          "base_uri": "https://localhost:8080/",
          "height": 761
        },
        "id": "1Y91duHUPGt3",
        "outputId": "0398d132-f16e-4ce3-fa81-11feb4fc6032"
      },
      "source": [
        "for img,actual,pred in zip(X_test[3:6],y_test[3:6],ypred):\n",
        "  print(f\"Actual: {actual}, Predicted: {pred} \")\n",
        "  plt.imshow(img,cmap='binary')\n",
        "  plt.axis('off')\n",
        "  plt.show()"
      ],
      "execution_count": 305,
      "outputs": [
        {
          "output_type": "stream",
          "text": [
            "Actual: 0, Predicted: 0 \n"
          ],
          "name": "stdout"
        },
        {
          "output_type": "display_data",
          "data": {
            "image/png": "[encoded data removed]",
            "text/plain": [
              "<Figure size 432x288 with 1 Axes>"
            ]
          },
          "metadata": {
            "tags": [],
            "needs_background": "light"
          }
        },
        {
          "output_type": "stream",
          "text": [
            "Actual: 4, Predicted: 4 \n"
          ],
          "name": "stdout"
        },
        {
          "output_type": "display_data",
          "data": {
            "image/png": "[encoded data removed]",
            "text/plain": [
              "<Figure size 432x288 with 1 Axes>"
            ]
          },
          "metadata": {
            "tags": [],
            "needs_background": "light"
          }
        },
        {
          "output_type": "stream",
          "text": [
            "Actual: 1, Predicted: 1 \n"
          ],
          "name": "stdout"
        },
        {
          "output_type": "display_data",
          "data": {
            "image/png": "[encoded data removed]",
            "text/plain": [
              "<Figure size 432x288 with 1 Axes>"
            ]
          },
          "metadata": {
            "tags": [],
            "needs_background": "light"
          }
        }
      ]
    },
    {
      "cell_type": "markdown",
      "metadata": {
        "id": "oARwZNgrdlzH"
      },
      "source": [
        "# Predicting Custom Image"
      ]
    },
    {
      "cell_type": "code",
      "metadata": {
        "id": "AI24zHOz2R9e"
      },
      "source": [
        "from keras.preprocessing.image import img_to_array\n",
        "\n",
        "from keras.preprocessing.image import array_to_img"
      ],
      "execution_count": 192,
      "outputs": []
    },
    {
      "cell_type": "code",
      "metadata": {
        "colab": {
          "base_uri": "https://localhost:8080/",
          "height": 242
        },
        "id": "do2f6ACh3meg",
        "outputId": "760f543c-5b1b-495a-e41d-95599bc23ded"
      },
      "source": [
        "digit = load_img('4.PNG')\n",
        "\n",
        "digit"
      ],
      "execution_count": 362,
      "outputs": [
        {
          "output_type": "execute_result",
          "data": {
            "image/png": "[encoded data removed]",
            "text/plain": [
              "<PIL.Image.Image image mode=RGB size=222x225 at 0x7F313D07E4A8>"
            ]
          },
          "metadata": {
            "tags": []
          },
          "execution_count": 362
        }
      ]
    },
    {
      "cell_type": "code",
      "metadata": {
        "id": "T5AwM1WyVGg0"
      },
      "source": [
        "x = img_to_array(digit)"
      ],
      "execution_count": 370,
      "outputs": []
    },
    {
      "cell_type": "code",
      "metadata": {
        "colab": {
          "base_uri": "https://localhost:8080/"
        },
        "id": "rklGvN9meAAf",
        "outputId": "c4c61b82-f07b-49f0-ac9c-71fb77fc5f8a"
      },
      "source": [
        "x.shape"
      ],
      "execution_count": 371,
      "outputs": [
        {
          "output_type": "execute_result",
          "data": {
            "text/plain": [
              "(225, 222, 3)"
            ]
          },
          "metadata": {
            "tags": []
          },
          "execution_count": 371
        }
      ]
    },
    {
      "cell_type": "code",
      "metadata": {
        "colab": {
          "base_uri": "https://localhost:8080/"
        },
        "id": "AGjyXzL-VVoF",
        "outputId": "ed3cb61a-1a71-478d-b852-80e67e62f50d"
      },
      "source": [
        "x = tf.image.rgb_to_grayscale(x)\n",
        "\n",
        "x.shape"
      ],
      "execution_count": 372,
      "outputs": [
        {
          "output_type": "execute_result",
          "data": {
            "text/plain": [
              "TensorShape([225, 222, 1])"
            ]
          },
          "metadata": {
            "tags": []
          },
          "execution_count": 372
        }
      ]
    },
    {
      "cell_type": "code",
      "metadata": {
        "colab": {
          "base_uri": "https://localhost:8080/"
        },
        "id": "LF-doL8QVZw_",
        "outputId": "a7623f3f-d796-4bc6-c1d8-7be0b6ecb52f"
      },
      "source": [
        "x = np.expand_dims(x, axis=0)\n",
        "\n",
        "x = x/255.0\n",
        "\n",
        "x.shape"
      ],
      "execution_count": 373,
      "outputs": [
        {
          "output_type": "execute_result",
          "data": {
            "text/plain": [
              "(1, 225, 222, 1)"
            ]
          },
          "metadata": {
            "tags": []
          },
          "execution_count": 373
        }
      ]
    },
    {
      "cell_type": "code",
      "metadata": {
        "colab": {
          "base_uri": "https://localhost:8080/"
        },
        "id": "2r5P9857ZucJ",
        "outputId": "7deb11f7-3e46-49de-c452-837bc73b4478"
      },
      "source": [
        "x = np.resize(x, (28,28))\n",
        "\n",
        "x.shape"
      ],
      "execution_count": 374,
      "outputs": [
        {
          "output_type": "execute_result",
          "data": {
            "text/plain": [
              "(28, 28)"
            ]
          },
          "metadata": {
            "tags": []
          },
          "execution_count": 374
        }
      ]
    },
    {
      "cell_type": "code",
      "metadata": {
        "colab": {
          "base_uri": "https://localhost:8080/"
        },
        "id": "fBbzDqYBZohF",
        "outputId": "e309ac44-c30d-4b8b-d169-3f952733423b"
      },
      "source": [
        "x = x.reshape(1,28,28)\n",
        "\n",
        "x.shape"
      ],
      "execution_count": 375,
      "outputs": [
        {
          "output_type": "execute_result",
          "data": {
            "text/plain": [
              "(1, 28, 28)"
            ]
          },
          "metadata": {
            "tags": []
          },
          "execution_count": 375
        }
      ]
    },
    {
      "cell_type": "code",
      "metadata": {
        "colab": {
          "base_uri": "https://localhost:8080/"
        },
        "id": "cyGy8zL7czGN",
        "outputId": "7c03e06a-4b40-49dd-82db-a0662b76bd44"
      },
      "source": [
        "np.argmax(model.predict(x).round(2),axis=-1)       # Predicted value is 4.."
      ],
      "execution_count": 360,
      "outputs": [
        {
          "output_type": "execute_result",
          "data": {
            "text/plain": [
              "array([4])"
            ]
          },
          "metadata": {
            "tags": []
          },
          "execution_count": 360
        }
      ]
    }
  ]
}