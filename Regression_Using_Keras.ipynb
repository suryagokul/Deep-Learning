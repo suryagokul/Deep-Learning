{
  "nbformat": 4,
  "nbformat_minor": 0,
  "metadata": {
    "colab": {
      "name": "Regression Using Keras.ipynb",
      "provenance": [],
      "authorship_tag": "ABX9TyNTNZ3NRYa6NmrF+QLVpGOm",
      "include_colab_link": true
    },
    "kernelspec": {
      "name": "python3",
      "display_name": "Python 3"
    }
  },
  "cells": [
    {
      "cell_type": "markdown",
      "metadata": {
        "id": "view-in-github",
        "colab_type": "text"
      },
      "source": [
        "<a href=\"https://colab.research.google.com/github/suryagokul/Deep-Learning/blob/main/Regression_Using_Keras.ipynb\" target=\"_parent\"><img src=\"https://colab.research.google.com/assets/colab-badge.svg\" alt=\"Open In Colab\"/></a>"
      ]
    },
    {
      "cell_type": "code",
      "metadata": {
        "id": "CAxn8zaQaUwp"
      },
      "source": [
        "from sklearn.datasets import fetch_california_housing\n",
        "\n",
        "from sklearn.preprocessing import StandardScaler\n",
        "\n",
        "import pandas as pd\n"
      ],
      "execution_count": 132,
      "outputs": []
    },
    {
      "cell_type": "code",
      "metadata": {
        "id": "tNgfhLicagoI"
      },
      "source": [
        "df = fetch_california_housing()"
      ],
      "execution_count": 89,
      "outputs": []
    },
    {
      "cell_type": "code",
      "metadata": {
        "colab": {
          "base_uri": "https://localhost:8080/"
        },
        "id": "WxfZ2RrXfhiF",
        "outputId": "dfd12cf3-a331-446a-98cc-9a2afb6d48f3"
      },
      "source": [
        "df.feature_names"
      ],
      "execution_count": 90,
      "outputs": [
        {
          "output_type": "execute_result",
          "data": {
            "text/plain": [
              "['MedInc',\n",
              " 'HouseAge',\n",
              " 'AveRooms',\n",
              " 'AveBedrms',\n",
              " 'Population',\n",
              " 'AveOccup',\n",
              " 'Latitude',\n",
              " 'Longitude']"
            ]
          },
          "metadata": {
            "tags": []
          },
          "execution_count": 90
        }
      ]
    },
    {
      "cell_type": "code",
      "metadata": {
        "id": "u98Qf7tvamjo"
      },
      "source": [
        "X = df.data"
      ],
      "execution_count": 91,
      "outputs": []
    },
    {
      "cell_type": "code",
      "metadata": {
        "colab": {
          "base_uri": "https://localhost:8080/"
        },
        "id": "18KnI-JTfnhJ",
        "outputId": "cee7a8d3-54e0-464c-d533-5e55989a3515"
      },
      "source": [
        "X[0]"
      ],
      "execution_count": 92,
      "outputs": [
        {
          "output_type": "execute_result",
          "data": {
            "text/plain": [
              "array([   8.3252    ,   41.        ,    6.98412698,    1.02380952,\n",
              "        322.        ,    2.55555556,   37.88      , -122.23      ])"
            ]
          },
          "metadata": {
            "tags": []
          },
          "execution_count": 92
        }
      ]
    },
    {
      "cell_type": "code",
      "metadata": {
        "colab": {
          "base_uri": "https://localhost:8080/"
        },
        "id": "UJwlN7KUcW6d",
        "outputId": "481ae1f7-fd92-4b1b-9a75-848e7f6b9b97"
      },
      "source": [
        "X.shape[1]"
      ],
      "execution_count": 93,
      "outputs": [
        {
          "output_type": "execute_result",
          "data": {
            "text/plain": [
              "8"
            ]
          },
          "metadata": {
            "tags": []
          },
          "execution_count": 93
        }
      ]
    },
    {
      "cell_type": "code",
      "metadata": {
        "id": "28Qgc4REanA-"
      },
      "source": [
        "y = df.target"
      ],
      "execution_count": 94,
      "outputs": []
    },
    {
      "cell_type": "code",
      "metadata": {
        "id": "DF-Iavnxawhk"
      },
      "source": [
        "from sklearn.model_selection import train_test_split"
      ],
      "execution_count": 95,
      "outputs": []
    },
    {
      "cell_type": "code",
      "metadata": {
        "id": "Nkno0IOmi-XZ"
      },
      "source": [
        "X_train_full, X_test, y_train_full, y_test = train_test_split(X, y, random_state=42)\n",
        "X_train, X_valid, y_train, y_valid = train_test_split(X_train_full, y_train_full, random_state=42)"
      ],
      "execution_count": 96,
      "outputs": []
    },
    {
      "cell_type": "code",
      "metadata": {
        "id": "yesV27kmh0Ux"
      },
      "source": [
        "scaler = StandardScaler()\n",
        "X_train = scaler.fit_transform(X_train)\n",
        "X_test = scaler.transform(X_test)"
      ],
      "execution_count": 97,
      "outputs": []
    },
    {
      "cell_type": "code",
      "metadata": {
        "id": "wdvrCVO-jHaX"
      },
      "source": [
        "X_valid = scaler.transform(X_valid)"
      ],
      "execution_count": 101,
      "outputs": []
    },
    {
      "cell_type": "code",
      "metadata": {
        "id": "vKj7yAPKbIv_"
      },
      "source": [
        "import tensorflow as tf\n",
        "from tensorflow import keras\n",
        "from keras.models import Sequential\n",
        "from keras.layers import Dense\n",
        "from keras.layers import Flatten"
      ],
      "execution_count": 98,
      "outputs": []
    },
    {
      "cell_type": "code",
      "metadata": {
        "id": "pfAS37tgbTNW"
      },
      "source": [
        "model = tf.keras.models.Sequential()\n",
        "\n",
        "model.add(Dense(30,activation=tf.nn.relu,input_shape=X_train.shape[1:]))\n",
        "model.add(Dense(20,activation=tf.nn.relu))\n",
        "model.add(Dense(5,activation=tf.nn.relu))\n",
        "model.add(Dense(1))\n",
        "\n",
        "model.compile(optimizer=tf.keras.optimizers.SGD(),loss=tf.keras.losses.mean_squared_error)"
      ],
      "execution_count": 104,
      "outputs": []
    },
    {
      "cell_type": "code",
      "metadata": {
        "colab": {
          "base_uri": "https://localhost:8080/"
        },
        "id": "vCiDvX0qblkb",
        "outputId": "d77ad32c-d173-4eb1-e963-6b1e6d146881"
      },
      "source": [
        "fit_model = model.fit(X_train,y_train,epochs=20,validation_data=(X_valid, y_valid))"
      ],
      "execution_count": 134,
      "outputs": [
        {
          "output_type": "stream",
          "text": [
            "Epoch 1/20\n",
            "363/363 [==============================] - 0s 1ms/step - loss: 0.3068 - val_loss: 1.4553\n",
            "Epoch 2/20\n",
            "363/363 [==============================] - 0s 1ms/step - loss: 0.3102 - val_loss: 0.4593\n",
            "Epoch 3/20\n",
            "363/363 [==============================] - 0s 1ms/step - loss: 0.3032 - val_loss: 1.2621\n",
            "Epoch 4/20\n",
            "363/363 [==============================] - 0s 1ms/step - loss: 0.3105 - val_loss: 0.4965\n",
            "Epoch 5/20\n",
            "363/363 [==============================] - 0s 1ms/step - loss: 0.3020 - val_loss: 0.3029\n",
            "Epoch 6/20\n",
            "363/363 [==============================] - 0s 1ms/step - loss: 0.2993 - val_loss: 0.2923\n",
            "Epoch 7/20\n",
            "363/363 [==============================] - 0s 1ms/step - loss: 0.2968 - val_loss: 0.2827\n",
            "Epoch 8/20\n",
            "363/363 [==============================] - 0s 1ms/step - loss: 0.2956 - val_loss: 0.2873\n",
            "Epoch 9/20\n",
            "363/363 [==============================] - 0s 1ms/step - loss: 0.2944 - val_loss: 0.3076\n",
            "Epoch 10/20\n",
            "363/363 [==============================] - 0s 1ms/step - loss: 0.2911 - val_loss: 0.3333\n",
            "Epoch 11/20\n",
            "363/363 [==============================] - 0s 1ms/step - loss: 0.2898 - val_loss: 0.3275\n",
            "Epoch 12/20\n",
            "363/363 [==============================] - 0s 1ms/step - loss: 0.2911 - val_loss: 0.3345\n",
            "Epoch 13/20\n",
            "363/363 [==============================] - 0s 1ms/step - loss: 0.2898 - val_loss: 0.2943\n",
            "Epoch 14/20\n",
            "363/363 [==============================] - 0s 1ms/step - loss: 0.2888 - val_loss: 0.3378\n",
            "Epoch 15/20\n",
            "363/363 [==============================] - 0s 1ms/step - loss: 0.2878 - val_loss: 0.3310\n",
            "Epoch 16/20\n",
            "363/363 [==============================] - 0s 1ms/step - loss: 0.2873 - val_loss: 0.3323\n",
            "Epoch 17/20\n",
            "363/363 [==============================] - 0s 1ms/step - loss: 0.2873 - val_loss: 0.3083\n",
            "Epoch 18/20\n",
            "363/363 [==============================] - 0s 1ms/step - loss: 0.2853 - val_loss: 0.3071\n",
            "Epoch 19/20\n",
            "363/363 [==============================] - 0s 1ms/step - loss: 0.2850 - val_loss: 0.4087\n",
            "Epoch 20/20\n",
            "363/363 [==============================] - 0s 1ms/step - loss: 0.2858 - val_loss: 0.2809\n"
          ],
          "name": "stdout"
        }
      ]
    },
    {
      "cell_type": "code",
      "metadata": {
        "colab": {
          "base_uri": "https://localhost:8080/"
        },
        "id": "MqcDHrwWjp1I",
        "outputId": "b7327d40-c2fd-43d0-e848-8aa72c5d1549"
      },
      "source": [
        "print(X_test[50].shape)                 # It give error while prediction.\n",
        "\n",
        "print(X_test[50:51].shape)      # So we have to give as slices or we can resize to (1,8)"
      ],
      "execution_count": 128,
      "outputs": [
        {
          "output_type": "stream",
          "text": [
            "(8,)\n",
            "(1, 8)\n"
          ],
          "name": "stdout"
        }
      ]
    },
    {
      "cell_type": "code",
      "metadata": {
        "colab": {
          "base_uri": "https://localhost:8080/"
        },
        "id": "t5KZH5KvdOpO",
        "outputId": "33e61a32-42da-4fbe-e39e-25fe2a6b5766"
      },
      "source": [
        "ypred = model.predict(X_test[50:51])\n",
        "\n",
        "ypred"
      ],
      "execution_count": 125,
      "outputs": [
        {
          "output_type": "execute_result",
          "data": {
            "text/plain": [
              "array([[2.4482899]], dtype=float32)"
            ]
          },
          "metadata": {
            "tags": []
          },
          "execution_count": 125
        }
      ]
    },
    {
      "cell_type": "code",
      "metadata": {
        "colab": {
          "base_uri": "https://localhost:8080/"
        },
        "id": "ccjRTeNqfMXK",
        "outputId": "4dbb7fc3-8773-44ef-8da0-3c754b27b09d"
      },
      "source": [
        "y_test[50]"
      ],
      "execution_count": 110,
      "outputs": [
        {
          "output_type": "execute_result",
          "data": {
            "text/plain": [
              "2.519"
            ]
          },
          "metadata": {
            "tags": []
          },
          "execution_count": 110
        }
      ]
    },
    {
      "cell_type": "code",
      "metadata": {
        "colab": {
          "base_uri": "https://localhost:8080/",
          "height": 337
        },
        "id": "WMnYTiEYldey",
        "outputId": "63666d30-5ad4-470b-8e3f-37f1e5598925"
      },
      "source": [
        "pd.DataFrame(fit_model.history).plot(figsize=(10,5))"
      ],
      "execution_count": 137,
      "outputs": [
        {
          "output_type": "execute_result",
          "data": {
            "text/plain": [
              "<matplotlib.axes._subplots.AxesSubplot at 0x7f3093157da0>"
            ]
          },
          "metadata": {
            "tags": []
          },
          "execution_count": 137
        },
        {
          "output_type": "display_data",
          "data": {
            "image/png": "[encoded data removed]",
            "text/plain": [
              "<Figure size 720x360 with 1 Axes>"
            ]
          },
          "metadata": {
            "tags": [],
            "needs_background": "light"
          }
        }
      ]
    },
    {
      "cell_type": "code",
      "metadata": {
        "colab": {
          "base_uri": "https://localhost:8080/"
        },
        "id": "QWq4rP6XlnHY",
        "outputId": "4865c91b-dd30-40b8-b9e2-2cf82d98db12"
      },
      "source": [
        "model.evaluate(X_test, y_test)"
      ],
      "execution_count": 138,
      "outputs": [
        {
          "output_type": "stream",
          "text": [
            "162/162 [==============================] - 0s 1ms/step - loss: 0.2884\n"
          ],
          "name": "stdout"
        },
        {
          "output_type": "execute_result",
          "data": {
            "text/plain": [
              "0.2884170413017273"
            ]
          },
          "metadata": {
            "tags": []
          },
          "execution_count": 138
        }
      ]
    },
    {
      "cell_type": "markdown",
      "metadata": {
        "id": "bua0L6EPqBMU"
      },
      "source": [
        "`ModelCheckpoint callback is used in conjunction with training using model. fit() to save a model or weights (in a checkpoint file) at some interval, so the model or weights can be loaded later to continue the training from the state saved.`"
      ]
    },
    {
      "cell_type": "markdown",
      "metadata": {
        "id": "bs0nqt4Yq81Y"
      },
      "source": [
        "`By Checkpoints we can access models at different intervals..`"
      ]
    },
    {
      "cell_type": "code",
      "metadata": {
        "colab": {
          "base_uri": "https://localhost:8080/"
        },
        "id": "D23RrZXhnkvc",
        "outputId": "4b282978-cbb7-4057-b8ea-c7174e16e491"
      },
      "source": [
        "chp = tf.keras.callbacks.ModelCheckpoint('Checkpoints.h5',save_best_only=True)\n",
        "\n",
        "fitting = model.fit(X_train,y_train,epochs=5,validation_data= (X_valid,y_valid),callbacks=[chp])"
      ],
      "execution_count": 152,
      "outputs": [
        {
          "output_type": "stream",
          "text": [
            "Epoch 1/5\n",
            "363/363 [==============================] - 1s 1ms/step - loss: 0.2783 - val_loss: 0.3397\n",
            "Epoch 2/5\n",
            "363/363 [==============================] - 1s 1ms/step - loss: 0.2776 - val_loss: 0.3118\n",
            "Epoch 3/5\n",
            "363/363 [==============================] - 1s 1ms/step - loss: 0.2789 - val_loss: 0.2786\n",
            "Epoch 4/5\n",
            "363/363 [==============================] - 1s 1ms/step - loss: 0.2763 - val_loss: 0.3040\n",
            "Epoch 5/5\n",
            "363/363 [==============================] - 0s 1ms/step - loss: 0.2765 - val_loss: 0.2815\n"
          ],
          "name": "stdout"
        }
      ]
    },
    {
      "cell_type": "code",
      "metadata": {
        "id": "L6jMHylinngH"
      },
      "source": [
        "model = tf.keras.models.load_model(\"/content/Checkpoints.h5\")            # rollback to best model"
      ],
      "execution_count": 153,
      "outputs": []
    },
    {
      "cell_type": "code",
      "metadata": {
        "colab": {
          "base_uri": "https://localhost:8080/"
        },
        "id": "qxKk8NlcpWLe",
        "outputId": "350030f7-3447-4c0a-98d3-c6c5b9c22c1c"
      },
      "source": [
        "model.evaluate(X_test,y_test)"
      ],
      "execution_count": 154,
      "outputs": [
        {
          "output_type": "stream",
          "text": [
            "162/162 [==============================] - 0s 899us/step - loss: 0.2878\n"
          ],
          "name": "stdout"
        },
        {
          "output_type": "execute_result",
          "data": {
            "text/plain": [
              "0.2878279685974121"
            ]
          },
          "metadata": {
            "tags": []
          },
          "execution_count": 154
        }
      ]
    }
  ]
}